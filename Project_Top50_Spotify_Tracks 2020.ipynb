{
 "cells": [
  {
   "cell_type": "code",
   "execution_count": 23,
   "id": "8d325d55",
   "metadata": {},
   "outputs": [],
   "source": [
    "import pandas as pd\n",
    "import numpy as np"
   ]
  },
  {
   "cell_type": "markdown",
   "id": "23a260de",
   "metadata": {},
   "source": [
    "1. Data Preparation and Overview: Loading the dataset, handling missing values, removing duplicates, and treating outliers."
   ]
  },
  {
   "cell_type": "code",
   "execution_count": 24,
   "id": "f87415e3-d92e-43ed-b263-0b716036232e",
   "metadata": {},
   "outputs": [],
   "source": [
    "# Read the CSV file into a DataFrame\n",
    "df = pd.read_csv('/Users/alex/Downloads/spotify_2020_dataset/spotifytoptracks.csv')\n"
   ]
  },
  {
   "cell_type": "code",
   "execution_count": 25,
   "id": "b59a79c5-55a9-4b71-b3e0-ae7fb661c99b",
   "metadata": {},
   "outputs": [
    {
     "data": {
      "text/html": [
       "<div>\n",
       "<style scoped>\n",
       "    .dataframe tbody tr th:only-of-type {\n",
       "        vertical-align: middle;\n",
       "    }\n",
       "\n",
       "    .dataframe tbody tr th {\n",
       "        vertical-align: top;\n",
       "    }\n",
       "\n",
       "    .dataframe thead th {\n",
       "        text-align: right;\n",
       "    }\n",
       "</style>\n",
       "<table border=\"1\" class=\"dataframe\">\n",
       "  <thead>\n",
       "    <tr style=\"text-align: right;\">\n",
       "      <th></th>\n",
       "      <th>Unnamed: 0</th>\n",
       "      <th>artist</th>\n",
       "      <th>album</th>\n",
       "      <th>track_name</th>\n",
       "      <th>track_id</th>\n",
       "      <th>energy</th>\n",
       "      <th>danceability</th>\n",
       "      <th>key</th>\n",
       "      <th>loudness</th>\n",
       "      <th>acousticness</th>\n",
       "      <th>speechiness</th>\n",
       "      <th>instrumentalness</th>\n",
       "      <th>liveness</th>\n",
       "      <th>valence</th>\n",
       "      <th>tempo</th>\n",
       "      <th>duration_ms</th>\n",
       "      <th>genre</th>\n",
       "    </tr>\n",
       "  </thead>\n",
       "  <tbody>\n",
       "    <tr>\n",
       "      <th>0</th>\n",
       "      <td>0</td>\n",
       "      <td>The Weeknd</td>\n",
       "      <td>After Hours</td>\n",
       "      <td>Blinding Lights</td>\n",
       "      <td>0VjIjW4GlUZAMYd2vXMi3b</td>\n",
       "      <td>0.730</td>\n",
       "      <td>0.514</td>\n",
       "      <td>1</td>\n",
       "      <td>-5.934</td>\n",
       "      <td>0.00146</td>\n",
       "      <td>0.0598</td>\n",
       "      <td>0.000095</td>\n",
       "      <td>0.0897</td>\n",
       "      <td>0.334</td>\n",
       "      <td>171.005</td>\n",
       "      <td>200040</td>\n",
       "      <td>R&amp;B/Soul</td>\n",
       "    </tr>\n",
       "    <tr>\n",
       "      <th>1</th>\n",
       "      <td>1</td>\n",
       "      <td>Tones And I</td>\n",
       "      <td>Dance Monkey</td>\n",
       "      <td>Dance Monkey</td>\n",
       "      <td>1rgnBhdG2JDFTbYkYRZAku</td>\n",
       "      <td>0.593</td>\n",
       "      <td>0.825</td>\n",
       "      <td>6</td>\n",
       "      <td>-6.401</td>\n",
       "      <td>0.68800</td>\n",
       "      <td>0.0988</td>\n",
       "      <td>0.000161</td>\n",
       "      <td>0.1700</td>\n",
       "      <td>0.540</td>\n",
       "      <td>98.078</td>\n",
       "      <td>209755</td>\n",
       "      <td>Alternative/Indie</td>\n",
       "    </tr>\n",
       "    <tr>\n",
       "      <th>2</th>\n",
       "      <td>2</td>\n",
       "      <td>Roddy Ricch</td>\n",
       "      <td>Please Excuse Me For Being Antisocial</td>\n",
       "      <td>The Box</td>\n",
       "      <td>0nbXyq5TXYPCO7pr3N8S4I</td>\n",
       "      <td>0.586</td>\n",
       "      <td>0.896</td>\n",
       "      <td>10</td>\n",
       "      <td>-6.687</td>\n",
       "      <td>0.10400</td>\n",
       "      <td>0.0559</td>\n",
       "      <td>0.000000</td>\n",
       "      <td>0.7900</td>\n",
       "      <td>0.642</td>\n",
       "      <td>116.971</td>\n",
       "      <td>196653</td>\n",
       "      <td>Hip-Hop/Rap</td>\n",
       "    </tr>\n",
       "    <tr>\n",
       "      <th>3</th>\n",
       "      <td>3</td>\n",
       "      <td>SAINt JHN</td>\n",
       "      <td>Roses (Imanbek Remix)</td>\n",
       "      <td>Roses - Imanbek Remix</td>\n",
       "      <td>2Wo6QQD1KMDWeFkkjLqwx5</td>\n",
       "      <td>0.721</td>\n",
       "      <td>0.785</td>\n",
       "      <td>8</td>\n",
       "      <td>-5.457</td>\n",
       "      <td>0.01490</td>\n",
       "      <td>0.0506</td>\n",
       "      <td>0.004320</td>\n",
       "      <td>0.2850</td>\n",
       "      <td>0.894</td>\n",
       "      <td>121.962</td>\n",
       "      <td>176219</td>\n",
       "      <td>Dance/Electronic</td>\n",
       "    </tr>\n",
       "    <tr>\n",
       "      <th>4</th>\n",
       "      <td>4</td>\n",
       "      <td>Dua Lipa</td>\n",
       "      <td>Future Nostalgia</td>\n",
       "      <td>Don't Start Now</td>\n",
       "      <td>3PfIrDoz19wz7qK7tYeu62</td>\n",
       "      <td>0.793</td>\n",
       "      <td>0.793</td>\n",
       "      <td>11</td>\n",
       "      <td>-4.521</td>\n",
       "      <td>0.01230</td>\n",
       "      <td>0.0830</td>\n",
       "      <td>0.000000</td>\n",
       "      <td>0.0951</td>\n",
       "      <td>0.679</td>\n",
       "      <td>123.950</td>\n",
       "      <td>183290</td>\n",
       "      <td>Nu-disco</td>\n",
       "    </tr>\n",
       "  </tbody>\n",
       "</table>\n",
       "</div>"
      ],
      "text/plain": [
       "   Unnamed: 0       artist                                  album  \\\n",
       "0           0   The Weeknd                            After Hours   \n",
       "1           1  Tones And I                           Dance Monkey   \n",
       "2           2  Roddy Ricch  Please Excuse Me For Being Antisocial   \n",
       "3           3    SAINt JHN                  Roses (Imanbek Remix)   \n",
       "4           4     Dua Lipa                       Future Nostalgia   \n",
       "\n",
       "              track_name                track_id  energy  danceability  key  \\\n",
       "0        Blinding Lights  0VjIjW4GlUZAMYd2vXMi3b   0.730         0.514    1   \n",
       "1           Dance Monkey  1rgnBhdG2JDFTbYkYRZAku   0.593         0.825    6   \n",
       "2                The Box  0nbXyq5TXYPCO7pr3N8S4I   0.586         0.896   10   \n",
       "3  Roses - Imanbek Remix  2Wo6QQD1KMDWeFkkjLqwx5   0.721         0.785    8   \n",
       "4        Don't Start Now  3PfIrDoz19wz7qK7tYeu62   0.793         0.793   11   \n",
       "\n",
       "   loudness  acousticness  speechiness  instrumentalness  liveness  valence  \\\n",
       "0    -5.934       0.00146       0.0598          0.000095    0.0897    0.334   \n",
       "1    -6.401       0.68800       0.0988          0.000161    0.1700    0.540   \n",
       "2    -6.687       0.10400       0.0559          0.000000    0.7900    0.642   \n",
       "3    -5.457       0.01490       0.0506          0.004320    0.2850    0.894   \n",
       "4    -4.521       0.01230       0.0830          0.000000    0.0951    0.679   \n",
       "\n",
       "     tempo  duration_ms              genre  \n",
       "0  171.005       200040           R&B/Soul  \n",
       "1   98.078       209755  Alternative/Indie  \n",
       "2  116.971       196653        Hip-Hop/Rap  \n",
       "3  121.962       176219   Dance/Electronic  \n",
       "4  123.950       183290           Nu-disco  "
      ]
     },
     "execution_count": 25,
     "metadata": {},
     "output_type": "execute_result"
    }
   ],
   "source": [
    "# Set display options for better readability\n",
    "pd.set_option('display.max_columns', 85)  \n",
    "pd.set_option('display.max_rows', 85)        \n",
    "df.head()"
   ]
  },
  {
   "cell_type": "code",
   "execution_count": 26,
   "id": "ad20af98-bdb4-4bf5-8e8a-2d99f16c5c89",
   "metadata": {},
   "outputs": [
    {
     "name": "stdout",
     "output_type": "stream",
     "text": [
      "Missing values in each column:\n",
      " Unnamed: 0          0\n",
      "artist              0\n",
      "album               0\n",
      "track_name          0\n",
      "track_id            0\n",
      "energy              0\n",
      "danceability        0\n",
      "key                 0\n",
      "loudness            0\n",
      "acousticness        0\n",
      "speechiness         0\n",
      "instrumentalness    0\n",
      "liveness            0\n",
      "valence             0\n",
      "tempo               0\n",
      "duration_ms         0\n",
      "genre               0\n",
      "dtype: int64\n"
     ]
    }
   ],
   "source": [
    "# Handle missing values\n",
    "# Check for missing values\n",
    "missing_values = df.isnull().sum()\n",
    "\n",
    "print(\"Missing values in each column:\\n\", missing_values)"
   ]
  },
  {
   "cell_type": "code",
   "execution_count": 27,
   "id": "56881baf-bf62-4a0e-a49d-ca7381431c7b",
   "metadata": {},
   "outputs": [],
   "source": [
    "# Remove unnecessary column\n",
    "df=df.drop(columns=['Unnamed: 0'])"
   ]
  },
  {
   "cell_type": "code",
   "execution_count": 28,
   "id": "dae13cb5-363c-4e10-ad48-ffe134195104",
   "metadata": {},
   "outputs": [
    {
     "data": {
      "text/plain": [
       "(50, 16)"
      ]
     },
     "execution_count": 28,
     "metadata": {},
     "output_type": "execute_result"
    }
   ],
   "source": [
    "df.shape"
   ]
  },
  {
   "cell_type": "code",
   "execution_count": 29,
   "id": "de416ed1-460b-4bac-810a-fb7e5cf0f683",
   "metadata": {},
   "outputs": [
    {
     "name": "stdout",
     "output_type": "stream",
     "text": [
      "There are no duplicate rows.\n"
     ]
    }
   ],
   "source": [
    "# Check for duplicate rows\n",
    "duplicate_rows = df[df.duplicated()]\n",
    "\n",
    "if not duplicate_rows.empty:\n",
    "    print(f\"There {'is' if len(duplicate_rows) == 1 else 'are'} {len(duplicate_rows)} duplicate row{'' if len(duplicate_rows) == 1 else 's'}.\")\n",
    "else:\n",
    "    print(\"There are no duplicate rows.\")"
   ]
  },
  {
   "cell_type": "code",
   "execution_count": 30,
   "id": "2f26d3f4-3b32-4b41-ace0-7c808961d26c",
   "metadata": {},
   "outputs": [
    {
     "data": {
      "text/plain": [
       "artist               object\n",
       "album                object\n",
       "track_name           object\n",
       "track_id             object\n",
       "energy              float64\n",
       "danceability        float64\n",
       "key                   int64\n",
       "loudness            float64\n",
       "acousticness        float64\n",
       "speechiness         float64\n",
       "instrumentalness    float64\n",
       "liveness            float64\n",
       "valence             float64\n",
       "tempo               float64\n",
       "duration_ms           int64\n",
       "genre                object\n",
       "dtype: object"
      ]
     },
     "execution_count": 30,
     "metadata": {},
     "output_type": "execute_result"
    }
   ],
   "source": [
    "# Check data types\n",
    "df.dtypes"
   ]
  },
  {
   "cell_type": "code",
   "execution_count": 31,
   "id": "c0dac2ff-5c86-45ed-b546-034dac58d6a0",
   "metadata": {},
   "outputs": [
    {
     "name": "stdout",
     "output_type": "stream",
     "text": [
      "Converted 'key' to categorical.\n"
     ]
    }
   ],
   "source": [
    "# Identify numeric columns\n",
    "numeric_columns = df.select_dtypes(include=['number']).columns\n",
    "\n",
    "# Convert 'key' to categorical variable if it's a numeric column\n",
    "if 'key' in numeric_columns:\n",
    "    df['key'] = df['key'].astype('object')\n",
    "    print(\"Converted 'key' to categorical.\")\n",
    "else:\n",
    "    print(\"'key' is not a numeric column.\")\n",
    "\n"
   ]
  },
  {
   "cell_type": "code",
   "execution_count": 32,
   "id": "4fa31b9e-a5d4-49cb-833f-98e5a9955c0e",
   "metadata": {},
   "outputs": [
    {
     "data": {
      "text/plain": [
       "artist               object\n",
       "album                object\n",
       "track_name           object\n",
       "track_id             object\n",
       "energy              float64\n",
       "danceability        float64\n",
       "key                  object\n",
       "loudness            float64\n",
       "acousticness        float64\n",
       "speechiness         float64\n",
       "instrumentalness    float64\n",
       "liveness            float64\n",
       "valence             float64\n",
       "tempo               float64\n",
       "duration_ms           int64\n",
       "genre                object\n",
       "dtype: object"
      ]
     },
     "execution_count": 32,
     "metadata": {},
     "output_type": "execute_result"
    }
   ],
   "source": [
    "# Check data types again\n",
    "df.dtypes"
   ]
  },
  {
   "cell_type": "markdown",
   "id": "e22381bd",
   "metadata": {},
   "source": [
    "Determine outliers in  numerical columns using standard deviation method"
   ]
  },
  {
   "cell_type": "code",
   "execution_count": 33,
   "id": "da184754-473f-476f-8cb0-8a5e6270df1b",
   "metadata": {},
   "outputs": [
    {
     "name": "stdout",
     "output_type": "stream",
     "text": [
      "Outlier indices: [2, 19, 24, 41, 49]\n"
     ]
    },
    {
     "data": {
      "text/html": [
       "<div>\n",
       "<style scoped>\n",
       "    .dataframe tbody tr th:only-of-type {\n",
       "        vertical-align: middle;\n",
       "    }\n",
       "\n",
       "    .dataframe tbody tr th {\n",
       "        vertical-align: top;\n",
       "    }\n",
       "\n",
       "    .dataframe thead th {\n",
       "        text-align: right;\n",
       "    }\n",
       "</style>\n",
       "<table border=\"1\" class=\"dataframe\">\n",
       "  <thead>\n",
       "    <tr style=\"text-align: right;\">\n",
       "      <th></th>\n",
       "      <th>artist</th>\n",
       "      <th>album</th>\n",
       "      <th>track_name</th>\n",
       "      <th>track_id</th>\n",
       "      <th>energy</th>\n",
       "      <th>danceability</th>\n",
       "      <th>key</th>\n",
       "      <th>loudness</th>\n",
       "      <th>acousticness</th>\n",
       "      <th>speechiness</th>\n",
       "      <th>instrumentalness</th>\n",
       "      <th>liveness</th>\n",
       "      <th>valence</th>\n",
       "      <th>tempo</th>\n",
       "      <th>duration_ms</th>\n",
       "      <th>genre</th>\n",
       "    </tr>\n",
       "  </thead>\n",
       "  <tbody>\n",
       "    <tr>\n",
       "      <th>24</th>\n",
       "      <td>Billie Eilish</td>\n",
       "      <td>everything i wanted</td>\n",
       "      <td>everything i wanted</td>\n",
       "      <td>3ZCTVFBt2Brf31RLEnCkWJ</td>\n",
       "      <td>0.225</td>\n",
       "      <td>0.704</td>\n",
       "      <td>6</td>\n",
       "      <td>-14.454</td>\n",
       "      <td>0.90200</td>\n",
       "      <td>0.0994</td>\n",
       "      <td>0.65700</td>\n",
       "      <td>0.106</td>\n",
       "      <td>0.243</td>\n",
       "      <td>120.006</td>\n",
       "      <td>245426</td>\n",
       "      <td>Pop</td>\n",
       "    </tr>\n",
       "    <tr>\n",
       "      <th>19</th>\n",
       "      <td>Future</td>\n",
       "      <td>High Off Life</td>\n",
       "      <td>Life Is Good (feat. Drake)</td>\n",
       "      <td>1K5KBOgreBi5fkEHvg5ap3</td>\n",
       "      <td>0.574</td>\n",
       "      <td>0.795</td>\n",
       "      <td>2</td>\n",
       "      <td>-6.903</td>\n",
       "      <td>0.06700</td>\n",
       "      <td>0.4870</td>\n",
       "      <td>0.00000</td>\n",
       "      <td>0.150</td>\n",
       "      <td>0.537</td>\n",
       "      <td>142.053</td>\n",
       "      <td>237918</td>\n",
       "      <td>Hip-Hop/Rap</td>\n",
       "    </tr>\n",
       "    <tr>\n",
       "      <th>2</th>\n",
       "      <td>Roddy Ricch</td>\n",
       "      <td>Please Excuse Me For Being Antisocial</td>\n",
       "      <td>The Box</td>\n",
       "      <td>0nbXyq5TXYPCO7pr3N8S4I</td>\n",
       "      <td>0.586</td>\n",
       "      <td>0.896</td>\n",
       "      <td>10</td>\n",
       "      <td>-6.687</td>\n",
       "      <td>0.10400</td>\n",
       "      <td>0.0559</td>\n",
       "      <td>0.00000</td>\n",
       "      <td>0.790</td>\n",
       "      <td>0.642</td>\n",
       "      <td>116.971</td>\n",
       "      <td>196653</td>\n",
       "      <td>Hip-Hop/Rap</td>\n",
       "    </tr>\n",
       "    <tr>\n",
       "      <th>41</th>\n",
       "      <td>Black Eyed Peas</td>\n",
       "      <td>Translation</td>\n",
       "      <td>RITMO (Bad Boys For Life)</td>\n",
       "      <td>4NCsrTzgVfsDo8nWyP8PPc</td>\n",
       "      <td>0.704</td>\n",
       "      <td>0.723</td>\n",
       "      <td>10</td>\n",
       "      <td>-7.088</td>\n",
       "      <td>0.02590</td>\n",
       "      <td>0.0571</td>\n",
       "      <td>0.00109</td>\n",
       "      <td>0.792</td>\n",
       "      <td>0.684</td>\n",
       "      <td>105.095</td>\n",
       "      <td>214935</td>\n",
       "      <td>Pop</td>\n",
       "    </tr>\n",
       "    <tr>\n",
       "      <th>49</th>\n",
       "      <td>Travis Scott</td>\n",
       "      <td>ASTROWORLD</td>\n",
       "      <td>SICKO MODE</td>\n",
       "      <td>2xLMifQCjDGFmkHkpNLD9h</td>\n",
       "      <td>0.730</td>\n",
       "      <td>0.834</td>\n",
       "      <td>8</td>\n",
       "      <td>-3.714</td>\n",
       "      <td>0.00513</td>\n",
       "      <td>0.2220</td>\n",
       "      <td>0.00000</td>\n",
       "      <td>0.124</td>\n",
       "      <td>0.446</td>\n",
       "      <td>155.008</td>\n",
       "      <td>312820</td>\n",
       "      <td>Hip-Hop/Rap</td>\n",
       "    </tr>\n",
       "  </tbody>\n",
       "</table>\n",
       "</div>"
      ],
      "text/plain": [
       "             artist                                  album  \\\n",
       "24    Billie Eilish                    everything i wanted   \n",
       "19           Future                          High Off Life   \n",
       "2       Roddy Ricch  Please Excuse Me For Being Antisocial   \n",
       "41  Black Eyed Peas                            Translation   \n",
       "49     Travis Scott                             ASTROWORLD   \n",
       "\n",
       "                    track_name                track_id  energy  danceability  \\\n",
       "24         everything i wanted  3ZCTVFBt2Brf31RLEnCkWJ   0.225         0.704   \n",
       "19  Life Is Good (feat. Drake)  1K5KBOgreBi5fkEHvg5ap3   0.574         0.795   \n",
       "2                      The Box  0nbXyq5TXYPCO7pr3N8S4I   0.586         0.896   \n",
       "41   RITMO (Bad Boys For Life)  4NCsrTzgVfsDo8nWyP8PPc   0.704         0.723   \n",
       "49                  SICKO MODE  2xLMifQCjDGFmkHkpNLD9h   0.730         0.834   \n",
       "\n",
       "   key  loudness  acousticness  speechiness  instrumentalness  liveness  \\\n",
       "24   6   -14.454       0.90200       0.0994           0.65700     0.106   \n",
       "19   2    -6.903       0.06700       0.4870           0.00000     0.150   \n",
       "2   10    -6.687       0.10400       0.0559           0.00000     0.790   \n",
       "41  10    -7.088       0.02590       0.0571           0.00109     0.792   \n",
       "49   8    -3.714       0.00513       0.2220           0.00000     0.124   \n",
       "\n",
       "    valence    tempo  duration_ms        genre  \n",
       "24    0.243  120.006       245426          Pop  \n",
       "19    0.537  142.053       237918  Hip-Hop/Rap  \n",
       "2     0.642  116.971       196653  Hip-Hop/Rap  \n",
       "41    0.684  105.095       214935          Pop  \n",
       "49    0.446  155.008       312820  Hip-Hop/Rap  "
      ]
     },
     "execution_count": 33,
     "metadata": {},
     "output_type": "execute_result"
    }
   ],
   "source": [
    "\n",
    "# Create a DataFrame to store outliers\n",
    "outliers_df = pd.DataFrame()\n",
    "outlier_indices = set()\n",
    "# Select only numerical columns\n",
    "numerical_cols = df.select_dtypes(include=['number']).columns\n",
    "\n",
    "# Define a function to detect outliers using mean and standard deviation method\n",
    "def detect_outliers(df, column, threshold=3):\n",
    "    mean = df[column].mean()\n",
    "    std_dev = df[column].std()\n",
    "    lower_bound = mean - threshold * std_dev\n",
    "    upper_bound = mean + threshold * std_dev\n",
    "    return df[(df[column] < lower_bound) | (df[column] > upper_bound)]\n",
    "\n",
    "# Apply the outlier detection for each numerical column\n",
    "for col in numerical_cols:\n",
    "    outliers = detect_outliers(df, col)\n",
    "    outliers_df = pd.concat([outliers_df, outliers])\n",
    "    outlier_indices.update(outliers.index)\n",
    "\n",
    "# Drop duplicate outliers (if any)\n",
    "outliers_df = outliers_df.drop_duplicates()\n",
    "\n",
    "# Convert outlier indices to a sorted list\n",
    "outlier_indices = sorted(outlier_indices)\n",
    "\n",
    "print(\"Outlier indices:\", outlier_indices)\n",
    "\n",
    "outliers_df.head()"
   ]
  },
  {
   "cell_type": "markdown",
   "id": "a544c1ea",
   "metadata": {},
   "source": [
    "For the analysis below the dataframe has been used with outliers"
   ]
  },
  {
   "cell_type": "code",
   "execution_count": 34,
   "id": "187bc406-c962-4b5c-b181-41ea7ce3a3ad",
   "metadata": {},
   "outputs": [
    {
     "name": "stdout",
     "output_type": "stream",
     "text": [
      "Number of observations: 50\n"
     ]
    }
   ],
   "source": [
    "\n",
    "# Number of observations\n",
    "num_observations = df.shape[0]\n",
    "print(\"Number of observations:\", num_observations)\n"
   ]
  },
  {
   "cell_type": "code",
   "execution_count": 35,
   "id": "a607dd1b-996a-44f5-9002-f86bef59f53e",
   "metadata": {},
   "outputs": [
    {
     "name": "stdout",
     "output_type": "stream",
     "text": [
      "Number of features: 16\n"
     ]
    }
   ],
   "source": [
    "# Number of features\n",
    "num_features = df.shape[1]\n",
    "print(\"Number of features:\", num_features)"
   ]
  },
  {
   "cell_type": "code",
   "execution_count": 36,
   "id": "be8dc0b3-2ce4-4897-ad29-fa8402851cd6",
   "metadata": {},
   "outputs": [
    {
     "name": "stdout",
     "output_type": "stream",
     "text": [
      "Categorical features: Index(['artist', 'album', 'track_name', 'track_id', 'key', 'genre'], dtype='object')\n"
     ]
    }
   ],
   "source": [
    "# Categorical features\n",
    "categorical_features = df.select_dtypes(include=['object']).columns\n",
    "print(\"Categorical features:\", categorical_features)"
   ]
  },
  {
   "cell_type": "code",
   "execution_count": 37,
   "id": "d45389f4-620f-4cd5-b95c-c1b5bfb3651d",
   "metadata": {},
   "outputs": [
    {
     "name": "stdout",
     "output_type": "stream",
     "text": [
      "Numeric features: Index(['energy', 'danceability', 'loudness', 'acousticness', 'speechiness',\n",
      "       'instrumentalness', 'liveness', 'valence', 'tempo', 'duration_ms'],\n",
      "      dtype='object')\n"
     ]
    }
   ],
   "source": [
    "# Numeric features\n",
    "numeric_features = df.select_dtypes(include=['number']).columns\n",
    "print(\"Numeric features:\", numeric_features)"
   ]
  },
  {
   "cell_type": "markdown",
   "id": "86208fa4",
   "metadata": {},
   "source": [
    "2. Artist and Track Analysis: Analysis of popular artists, albums, track characteristics, and genres."
   ]
  },
  {
   "cell_type": "code",
   "execution_count": 38,
   "id": "4e80c5d6-bd65-4f56-b747-24f490dd3f3c",
   "metadata": {},
   "outputs": [
    {
     "name": "stdout",
     "output_type": "stream",
     "text": [
      "Artists with more than 1 popular track:\n",
      " artist\n",
      "Dua Lipa         3\n",
      "Billie Eilish    3\n",
      "Travis Scott     3\n",
      "Harry Styles     2\n",
      "Lewis Capaldi    2\n",
      "Justin Bieber    2\n",
      "Post Malone      2\n",
      "Name: count, dtype: int64\n"
     ]
    }
   ],
   "source": [
    "# Artists with more than 1 popular track\n",
    "artist_track_counts = df['artist'].value_counts()\n",
    "artists_with_multiple_tracks = artist_track_counts[artist_track_counts > 1]\n",
    "print(\"Artists with more than 1 popular track:\\n\", artists_with_multiple_tracks)"
   ]
  },
  {
   "cell_type": "code",
   "execution_count": 39,
   "id": "b362324e-3be5-49ee-a91e-b7813e17cd3f",
   "metadata": {},
   "outputs": [
    {
     "name": "stdout",
     "output_type": "stream",
     "text": [
      "The most popular artist(s) with 3 tracks:\n",
      "artist\n",
      "Dua Lipa         3\n",
      "Billie Eilish    3\n",
      "Travis Scott     3\n",
      "Name: count, dtype: int64\n"
     ]
    }
   ],
   "source": [
    "# The most popular artist\n",
    "\n",
    "# Find the maximum count of tracks\n",
    "max_count = artist_track_counts.max()\n",
    "\n",
    "# Find all artists with the maximum count of tracks\n",
    "most_popular_artists = artist_track_counts[artist_track_counts == max_count]\n",
    "\n",
    "print(f\"The most popular artist(s) with {max_count} tracks:\\n{most_popular_artists}\")"
   ]
  },
  {
   "cell_type": "code",
   "execution_count": 40,
   "id": "80ebee8c-11b2-4823-8e1f-0ec4afaf5cfb",
   "metadata": {},
   "outputs": [
    {
     "name": "stdout",
     "output_type": "stream",
     "text": [
      "Total number of unique artists : 40 artists\n"
     ]
    }
   ],
   "source": [
    "# Total number of  artists in the top 50\n",
    "\n",
    "# Count unique artists\n",
    "num_unique_artists = len(df['artist'].unique())\n",
    "\n",
    "print(f'Total number of unique artists : {num_unique_artists} artists')"
   ]
  },
  {
   "cell_type": "code",
   "execution_count": 41,
   "id": "69cf62ab-0c63-420f-bbed-d5fb66e3911f",
   "metadata": {},
   "outputs": [
    {
     "name": "stdout",
     "output_type": "stream",
     "text": [
      "album\n",
      "Future Nostalgia        3\n",
      "Changes                 2\n",
      "Fine Line               2\n",
      "Hollywood's Bleeding    2\n",
      "Name: track_name, dtype: int64\n"
     ]
    }
   ],
   "source": [
    "# Albums that have more than 1 popular track\n",
    "\n",
    "# Group by the 'album' column and count the number of tracks per album\n",
    "album_track_counts = df.groupby('album')['track_name'].count()\n",
    "\n",
    "# Filter albums with more than one popular track\n",
    "albums_with_multiple_tracks = album_track_counts[album_track_counts > 1]\n",
    "\n",
    "# Sort the albums by the number of popular tracks in descending order\n",
    "albums_with_multiple_tracks = albums_with_multiple_tracks.sort_values(ascending=False)\n",
    "\n",
    "# Display the albums and the number of popular tracks they have\n",
    "print(albums_with_multiple_tracks)\n"
   ]
  },
  {
   "cell_type": "code",
   "execution_count": 42,
   "id": "76a55adf-6c21-4e9a-8435-88cc8231ac36",
   "metadata": {},
   "outputs": [
    {
     "name": "stdout",
     "output_type": "stream",
     "text": [
      "Total number of unique albums in the top 50: 45\n"
     ]
    }
   ],
   "source": [
    "# Number of albums in top 50\n",
    "\n",
    "# Extract the unique album names and count them\n",
    "num_unique_albums = len(df['album'].unique())\n",
    "\n",
    "print(f'Total number of unique albums in the top 50: {num_unique_albums}')"
   ]
  },
  {
   "cell_type": "code",
   "execution_count": 43,
   "id": "11d39fb8-ea83-43e2-a618-0008f1bd97fc",
   "metadata": {},
   "outputs": [
    {
     "name": "stdout",
     "output_type": "stream",
     "text": [
      "Number of tracks with danceability score above 0.7: 32\n",
      "Tracks with danceability score above 0.7:\n",
      "                                       track_name  danceability\n",
      "27                WAP (feat. Megan Thee Stallion)         0.935\n",
      "2                                         The Box         0.896\n",
      "39                                        Ride It         0.880\n",
      "28                                    Sunday Best         0.878\n",
      "33               Supalonely (feat. Gus Dapperton)         0.862\n",
      "40                                     goosebumps         0.841\n",
      "49                                     SICKO MODE         0.834\n",
      "15                                   Toosie Slide         0.830\n",
      "1                                    Dance Monkey         0.825\n",
      "29                    Godzilla (feat. Juice WRLD)         0.808\n",
      "14                       Intentions (feat. Quavo)         0.806\n",
      "10                                           Tusa         0.803\n",
      "19                     Life Is Good (feat. Drake)         0.795\n",
      "4                                 Don't Start Now         0.793\n",
      "22                                    Breaking Me         0.789\n",
      "17                                         Say So         0.787\n",
      "3                           Roses - Imanbek Remix         0.785\n",
      "8                                         Falling         0.784\n",
      "38                                          Hawái         0.783\n",
      "13                                Blueberry Faygo         0.774\n",
      "20               Savage Love (Laxed - Siren Beat)         0.767\n",
      "18                                       Memories         0.764\n",
      "25                                       Señorita         0.759\n",
      "37  Sunflower - Spider-Man: Into the Spider-Verse         0.755\n",
      "32                                       Dynamite         0.746\n",
      "5                    ROCKSTAR (feat. Roddy Ricch)         0.746\n",
      "31                                 Break My Heart         0.730\n",
      "7                death bed (coffee for your head)         0.726\n",
      "41                      RITMO (Bad Boys For Life)         0.723\n",
      "42                                     THE SCOTTS         0.716\n",
      "24                            everything i wanted         0.704\n",
      "26                                        bad guy         0.701\n"
     ]
    }
   ],
   "source": [
    "# Tracks that have a danceability score above 0.7\n",
    "\n",
    "# Filter tracks \n",
    "high_danceability_tracks = df[df['danceability'] > 0.7]\n",
    "sorted_high_danceability_tracks = high_danceability_tracks.sort_values(by='danceability', ascending=False)\n",
    "\n",
    "# Count the number of tracks with danceability score above 0.7\n",
    "num_high_danceability_tracks = high_danceability_tracks.shape[0]\n",
    "\n",
    "print(f\"Number of tracks with danceability score above 0.7: {num_high_danceability_tracks}\")\n",
    "\n",
    "print(\"Tracks with danceability score above 0.7:\")\n",
    "print(sorted_high_danceability_tracks[['track_name', 'danceability']])\n",
    "\n"
   ]
  },
  {
   "cell_type": "code",
   "execution_count": 44,
   "id": "50d9268f",
   "metadata": {},
   "outputs": [
    {
     "name": "stdout",
     "output_type": "stream",
     "text": [
      "\n",
      "Tracks with danceability score below 0.4:\n",
      "              track_name  danceability\n",
      "44  lovely (with Khalid)         0.351\n"
     ]
    }
   ],
   "source": [
    "# Tracks with danceability score below 0.4\n",
    "\n",
    "# Filter tracks \n",
    "low_danceability_tracks = df[df['danceability'] < 0.4]\n",
    "\n",
    "print(\"\\nTracks with danceability score below 0.4:\")\n",
    "print(low_danceability_tracks[['track_name', 'danceability']])"
   ]
  },
  {
   "cell_type": "code",
   "execution_count": 45,
   "id": "035bebe0-934c-4778-af91-f09f5c096427",
   "metadata": {},
   "outputs": [
    {
     "name": "stdout",
     "output_type": "stream",
     "text": [
      "Number of tracks with loudness above -5: 19\n",
      "Tracks with loudness above -5:\n",
      "                                       track_name  loudness\n",
      "10                                           Tusa    -3.280\n",
      "40                                     goosebumps    -3.370\n",
      "31                                 Break My Heart    -3.434\n",
      "38                                          Hawái    -3.454\n",
      "12                                        Circles    -3.497\n",
      "23                         Mood (feat. iann dior)    -3.558\n",
      "21                                      Adore You    -3.675\n",
      "49                                     SICKO MODE    -3.714\n",
      "48                                       Physical    -3.756\n",
      "35                Rain On Me (with Ariana Grande)    -3.764\n",
      "43                                        Safaera    -4.074\n",
      "6                                Watermelon Sugar    -4.209\n",
      "39                                        Ride It    -4.258\n",
      "37  Sunflower - Spider-Man: Into the Spider-Verse    -4.368\n",
      "32                                       Dynamite    -4.410\n",
      "4                                 Don't Start Now    -4.521\n",
      "17                                         Say So    -4.577\n",
      "33               Supalonely (feat. Gus Dapperton)    -4.746\n",
      "16                                  Before You Go    -4.858\n"
     ]
    }
   ],
   "source": [
    "# Tracks with loudness above -5\n",
    "\n",
    "# Filter tracks with loudness above -5\n",
    "high_loudness_tracks = df[df['loudness'] > -5]\n",
    "sorted_high_loudness_tracks = high_loudness_tracks.sort_values(by='loudness', ascending=False)\n",
    "\n",
    "# Count the number of tracks with loudness above -5\n",
    "num_hloudness = high_loudness_tracks.shape[0]\n",
    "print(f\"Number of tracks with loudness above -5: {num_hloudness}\")\n",
    "\n",
    "print(\"Tracks with loudness above -5:\")\n",
    "print(sorted_high_loudness_tracks[['track_name', 'loudness']])\n"
   ]
  },
  {
   "cell_type": "code",
   "execution_count": 46,
   "id": "717f30c9-d96a-4c37-853a-6df9fa1befd1",
   "metadata": {},
   "outputs": [
    {
     "name": "stdout",
     "output_type": "stream",
     "text": [
      "Number of tracks with loudness below -8: 9\n",
      "\n",
      "Tracks with loudness below -8:\n",
      "                                        track_name  loudness\n",
      "20                Savage Love (Laxed - Siren Beat)    -8.520\n",
      "8                                          Falling    -8.756\n",
      "36                             HIGHEST IN THE ROOM    -8.764\n",
      "7                 death bed (coffee for your head)    -8.765\n",
      "15                                    Toosie Slide    -8.820\n",
      "47  If the World Was Ending - feat. Julia Michaels   -10.086\n",
      "44                            lovely (with Khalid)   -10.109\n",
      "26                                         bad guy   -10.965\n",
      "24                             everything i wanted   -14.454\n"
     ]
    }
   ],
   "source": [
    "# Tracks with loudness below -8\n",
    "\n",
    "# Filter tracks with loudness below -8\n",
    "low_loudness_tracks = df[df['loudness'] < -8]\n",
    "sorted_low_loudness_tracks = low_loudness_tracks.sort_values(by='loudness', ascending=False)\n",
    "# Count the number of tracks with loudness below -8\n",
    "num_lloudness = low_loudness_tracks.shape[0]\n",
    "print(f\"Number of tracks with loudness below -8: {num_lloudness}\")\n",
    "\n",
    "print(\"\\nTracks with loudness below -8:\")\n",
    "print(sorted_low_loudness_tracks[['track_name', 'loudness']])"
   ]
  },
  {
   "cell_type": "code",
   "execution_count": 47,
   "id": "b9daefc9",
   "metadata": {},
   "outputs": [
    {
     "name": "stdout",
     "output_type": "stream",
     "text": [
      "artist         Travis Scott\n",
      "track_name       SICKO MODE\n",
      "duration_ms          312820\n",
      "Name: 49, dtype: object\n"
     ]
    }
   ],
   "source": [
    "# The longest track\n",
    "\n",
    "# Find the row with the maximum duration\n",
    "longest_track = df.loc[df['duration_ms'].idxmax()]\n",
    "\n",
    "print(longest_track[['artist', 'track_name', 'duration_ms']])"
   ]
  },
  {
   "cell_type": "code",
   "execution_count": 48,
   "id": "01f0c55f",
   "metadata": {},
   "outputs": [
    {
     "name": "stdout",
     "output_type": "stream",
     "text": [
      "artist                       24kGoldn\n",
      "track_name     Mood (feat. iann dior)\n",
      "duration_ms                    140526\n",
      "Name: 23, dtype: object\n"
     ]
    }
   ],
   "source": [
    "# The shortest track\n",
    "\n",
    "# Find the row with the min duration\n",
    "shortest_track = df.loc[df['duration_ms'].idxmin()]\n",
    "\n",
    "print(shortest_track[['artist', 'track_name', 'duration_ms']])"
   ]
  },
  {
   "cell_type": "code",
   "execution_count": 49,
   "id": "5ff35f36",
   "metadata": {},
   "outputs": [
    {
     "name": "stdout",
     "output_type": "stream",
     "text": [
      "Sorted genre counts:\n",
      "genre\n",
      "Pop                                   14\n",
      "Hip-Hop/Rap                           13\n",
      "Dance/Electronic                       5\n",
      "Alternative/Indie                      4\n",
      "R&B/Soul                               2\n",
      " Electro-pop                           2\n",
      "R&B/Hip-Hop alternative                1\n",
      "Nu-disco                               1\n",
      "Pop/Soft Rock                          1\n",
      "Pop rap                                1\n",
      "Hip-Hop/Trap                           1\n",
      "Dance-pop/Disco                        1\n",
      "Disco-pop                              1\n",
      "Dreampop/Hip-Hop/R&B                   1\n",
      "Alternative/reggaeton/experimental     1\n",
      "Chamber pop                            1\n",
      "Name: count, dtype: int64\n",
      "\n",
      "The most popular genre is 'Pop' with 14 tracks.\n"
     ]
    }
   ],
   "source": [
    "# The most popular genre\n",
    "\n",
    "# Group by 'genre' and count the number of tracks in each genre\n",
    "genre_counts = df['genre'].value_counts()\n",
    "\n",
    "# Sort the genres by their count\n",
    "sorted_genre_counts = genre_counts.sort_values(ascending=False)\n",
    "\n",
    "# Get the most popular genre\n",
    "most_popular_genre = genre_counts.idxmax()\n",
    "most_popular_count = genre_counts.max()\n",
    "\n",
    "print(\"Sorted genre counts:\")\n",
    "print(sorted_genre_counts)\n",
    "print(f\"\\nThe most popular genre is '{most_popular_genre}' with {most_popular_count} tracks.\")"
   ]
  },
  {
   "cell_type": "code",
   "execution_count": 50,
   "id": "214b8026",
   "metadata": {},
   "outputs": [
    {
     "name": "stdout",
     "output_type": "stream",
     "text": [
      "Genres with just one song in the top 50:\n",
      "genre\n",
      "R&B/Hip-Hop alternative               1\n",
      "Nu-disco                              1\n",
      "Pop/Soft Rock                         1\n",
      "Pop rap                               1\n",
      "Hip-Hop/Trap                          1\n",
      "Dance-pop/Disco                       1\n",
      "Disco-pop                             1\n",
      "Dreampop/Hip-Hop/R&B                  1\n",
      "Alternative/reggaeton/experimental    1\n",
      "Chamber pop                           1\n",
      "Name: count, dtype: int64\n"
     ]
    }
   ],
   "source": [
    "# Genres that have just one song on the top 50\n",
    "\n",
    "# Filter genres with only one track\n",
    "genres_with_one_song = genre_counts[genre_counts == 1]\n",
    "\n",
    "print(\"Genres with just one song in the top 50:\")\n",
    "print(genres_with_one_song)"
   ]
  },
  {
   "cell_type": "code",
   "execution_count": 51,
   "id": "e2070058",
   "metadata": {},
   "outputs": [
    {
     "name": "stdout",
     "output_type": "stream",
     "text": [
      "Total number of genres represented in the top 50: 16\n"
     ]
    }
   ],
   "source": [
    "# Number of genres in top 50\n",
    "\n",
    "# Count the number of unique genres\n",
    "total_genres = df['genre'].nunique()\n",
    "\n",
    "print(f\"Total number of genres represented in the top 50: {total_genres}\")\n"
   ]
  },
  {
   "cell_type": "markdown",
   "id": "772f0e35",
   "metadata": {},
   "source": [
    "3. Feature Relationships and Comparisons:** Correlation analysis and genre comparisons."
   ]
  },
  {
   "cell_type": "markdown",
   "id": "ce001e17",
   "metadata": {},
   "source": [
    "Correlation analysis\n",
    "Let's specify correlation coefficents for current research:\n",
    "Strong positive correlation R > 0.6\n",
    "Strong negative correlation R < - 0.6\n",
    "No correlation -0.1 < R < 0.1"
   ]
  },
  {
   "cell_type": "code",
   "execution_count": 52,
   "id": "9ea92230",
   "metadata": {},
   "outputs": [
    {
     "data": {
      "text/html": [
       "<div>\n",
       "<style scoped>\n",
       "    .dataframe tbody tr th:only-of-type {\n",
       "        vertical-align: middle;\n",
       "    }\n",
       "\n",
       "    .dataframe tbody tr th {\n",
       "        vertical-align: top;\n",
       "    }\n",
       "\n",
       "    .dataframe thead th {\n",
       "        text-align: right;\n",
       "    }\n",
       "</style>\n",
       "<table border=\"1\" class=\"dataframe\">\n",
       "  <thead>\n",
       "    <tr style=\"text-align: right;\">\n",
       "      <th></th>\n",
       "      <th>energy</th>\n",
       "      <th>danceability</th>\n",
       "      <th>loudness</th>\n",
       "      <th>acousticness</th>\n",
       "      <th>speechiness</th>\n",
       "      <th>instrumentalness</th>\n",
       "      <th>liveness</th>\n",
       "      <th>valence</th>\n",
       "      <th>tempo</th>\n",
       "      <th>duration_ms</th>\n",
       "    </tr>\n",
       "  </thead>\n",
       "  <tbody>\n",
       "    <tr>\n",
       "      <th>0</th>\n",
       "      <td>0.730</td>\n",
       "      <td>0.514</td>\n",
       "      <td>-5.934</td>\n",
       "      <td>0.00146</td>\n",
       "      <td>0.0598</td>\n",
       "      <td>0.000095</td>\n",
       "      <td>0.0897</td>\n",
       "      <td>0.334</td>\n",
       "      <td>171.005</td>\n",
       "      <td>200040</td>\n",
       "    </tr>\n",
       "    <tr>\n",
       "      <th>1</th>\n",
       "      <td>0.593</td>\n",
       "      <td>0.825</td>\n",
       "      <td>-6.401</td>\n",
       "      <td>0.68800</td>\n",
       "      <td>0.0988</td>\n",
       "      <td>0.000161</td>\n",
       "      <td>0.1700</td>\n",
       "      <td>0.540</td>\n",
       "      <td>98.078</td>\n",
       "      <td>209755</td>\n",
       "    </tr>\n",
       "    <tr>\n",
       "      <th>2</th>\n",
       "      <td>0.586</td>\n",
       "      <td>0.896</td>\n",
       "      <td>-6.687</td>\n",
       "      <td>0.10400</td>\n",
       "      <td>0.0559</td>\n",
       "      <td>0.000000</td>\n",
       "      <td>0.7900</td>\n",
       "      <td>0.642</td>\n",
       "      <td>116.971</td>\n",
       "      <td>196653</td>\n",
       "    </tr>\n",
       "    <tr>\n",
       "      <th>3</th>\n",
       "      <td>0.721</td>\n",
       "      <td>0.785</td>\n",
       "      <td>-5.457</td>\n",
       "      <td>0.01490</td>\n",
       "      <td>0.0506</td>\n",
       "      <td>0.004320</td>\n",
       "      <td>0.2850</td>\n",
       "      <td>0.894</td>\n",
       "      <td>121.962</td>\n",
       "      <td>176219</td>\n",
       "    </tr>\n",
       "    <tr>\n",
       "      <th>4</th>\n",
       "      <td>0.793</td>\n",
       "      <td>0.793</td>\n",
       "      <td>-4.521</td>\n",
       "      <td>0.01230</td>\n",
       "      <td>0.0830</td>\n",
       "      <td>0.000000</td>\n",
       "      <td>0.0951</td>\n",
       "      <td>0.679</td>\n",
       "      <td>123.950</td>\n",
       "      <td>183290</td>\n",
       "    </tr>\n",
       "  </tbody>\n",
       "</table>\n",
       "</div>"
      ],
      "text/plain": [
       "   energy  danceability  loudness  acousticness  speechiness  \\\n",
       "0   0.730         0.514    -5.934       0.00146       0.0598   \n",
       "1   0.593         0.825    -6.401       0.68800       0.0988   \n",
       "2   0.586         0.896    -6.687       0.10400       0.0559   \n",
       "3   0.721         0.785    -5.457       0.01490       0.0506   \n",
       "4   0.793         0.793    -4.521       0.01230       0.0830   \n",
       "\n",
       "   instrumentalness  liveness  valence    tempo  duration_ms  \n",
       "0          0.000095    0.0897    0.334  171.005       200040  \n",
       "1          0.000161    0.1700    0.540   98.078       209755  \n",
       "2          0.000000    0.7900    0.642  116.971       196653  \n",
       "3          0.004320    0.2850    0.894  121.962       176219  \n",
       "4          0.000000    0.0951    0.679  123.950       183290  "
      ]
     },
     "execution_count": 52,
     "metadata": {},
     "output_type": "execute_result"
    }
   ],
   "source": [
    "\n",
    "# Select only numerical features\n",
    "numerical_df = df.select_dtypes(include=['number'])\n",
    "\n",
    "numerical_df.head()"
   ]
  },
  {
   "cell_type": "code",
   "execution_count": 53,
   "id": "e9dd80f4",
   "metadata": {},
   "outputs": [
    {
     "data": {
      "text/html": [
       "<div>\n",
       "<style scoped>\n",
       "    .dataframe tbody tr th:only-of-type {\n",
       "        vertical-align: middle;\n",
       "    }\n",
       "\n",
       "    .dataframe tbody tr th {\n",
       "        vertical-align: top;\n",
       "    }\n",
       "\n",
       "    .dataframe thead th {\n",
       "        text-align: right;\n",
       "    }\n",
       "</style>\n",
       "<table border=\"1\" class=\"dataframe\">\n",
       "  <thead>\n",
       "    <tr style=\"text-align: right;\">\n",
       "      <th></th>\n",
       "      <th>energy</th>\n",
       "      <th>danceability</th>\n",
       "      <th>loudness</th>\n",
       "      <th>acousticness</th>\n",
       "      <th>speechiness</th>\n",
       "      <th>instrumentalness</th>\n",
       "      <th>liveness</th>\n",
       "      <th>valence</th>\n",
       "      <th>tempo</th>\n",
       "      <th>duration_ms</th>\n",
       "    </tr>\n",
       "  </thead>\n",
       "  <tbody>\n",
       "    <tr>\n",
       "      <th>energy</th>\n",
       "      <td>1.000000</td>\n",
       "      <td>0.152552</td>\n",
       "      <td>0.791640</td>\n",
       "      <td>-0.682479</td>\n",
       "      <td>0.074267</td>\n",
       "      <td>-0.385515</td>\n",
       "      <td>0.069487</td>\n",
       "      <td>0.393453</td>\n",
       "      <td>0.075191</td>\n",
       "      <td>0.081971</td>\n",
       "    </tr>\n",
       "    <tr>\n",
       "      <th>danceability</th>\n",
       "      <td>0.152552</td>\n",
       "      <td>1.000000</td>\n",
       "      <td>0.167147</td>\n",
       "      <td>-0.359135</td>\n",
       "      <td>0.226148</td>\n",
       "      <td>-0.017706</td>\n",
       "      <td>-0.006648</td>\n",
       "      <td>0.479953</td>\n",
       "      <td>0.168956</td>\n",
       "      <td>-0.033763</td>\n",
       "    </tr>\n",
       "    <tr>\n",
       "      <th>loudness</th>\n",
       "      <td>0.791640</td>\n",
       "      <td>0.167147</td>\n",
       "      <td>1.000000</td>\n",
       "      <td>-0.498695</td>\n",
       "      <td>-0.021693</td>\n",
       "      <td>-0.553735</td>\n",
       "      <td>-0.069939</td>\n",
       "      <td>0.406772</td>\n",
       "      <td>0.102097</td>\n",
       "      <td>0.064130</td>\n",
       "    </tr>\n",
       "    <tr>\n",
       "      <th>acousticness</th>\n",
       "      <td>-0.682479</td>\n",
       "      <td>-0.359135</td>\n",
       "      <td>-0.498695</td>\n",
       "      <td>1.000000</td>\n",
       "      <td>-0.135392</td>\n",
       "      <td>0.352184</td>\n",
       "      <td>-0.128384</td>\n",
       "      <td>-0.243192</td>\n",
       "      <td>-0.241119</td>\n",
       "      <td>-0.010988</td>\n",
       "    </tr>\n",
       "    <tr>\n",
       "      <th>speechiness</th>\n",
       "      <td>0.074267</td>\n",
       "      <td>0.226148</td>\n",
       "      <td>-0.021693</td>\n",
       "      <td>-0.135392</td>\n",
       "      <td>1.000000</td>\n",
       "      <td>0.028948</td>\n",
       "      <td>-0.142957</td>\n",
       "      <td>0.053867</td>\n",
       "      <td>0.215504</td>\n",
       "      <td>0.366976</td>\n",
       "    </tr>\n",
       "    <tr>\n",
       "      <th>instrumentalness</th>\n",
       "      <td>-0.385515</td>\n",
       "      <td>-0.017706</td>\n",
       "      <td>-0.553735</td>\n",
       "      <td>0.352184</td>\n",
       "      <td>0.028948</td>\n",
       "      <td>1.000000</td>\n",
       "      <td>-0.087034</td>\n",
       "      <td>-0.203283</td>\n",
       "      <td>0.018853</td>\n",
       "      <td>0.184709</td>\n",
       "    </tr>\n",
       "    <tr>\n",
       "      <th>liveness</th>\n",
       "      <td>0.069487</td>\n",
       "      <td>-0.006648</td>\n",
       "      <td>-0.069939</td>\n",
       "      <td>-0.128384</td>\n",
       "      <td>-0.142957</td>\n",
       "      <td>-0.087034</td>\n",
       "      <td>1.000000</td>\n",
       "      <td>-0.033366</td>\n",
       "      <td>0.025457</td>\n",
       "      <td>-0.090188</td>\n",
       "    </tr>\n",
       "    <tr>\n",
       "      <th>valence</th>\n",
       "      <td>0.393453</td>\n",
       "      <td>0.479953</td>\n",
       "      <td>0.406772</td>\n",
       "      <td>-0.243192</td>\n",
       "      <td>0.053867</td>\n",
       "      <td>-0.203283</td>\n",
       "      <td>-0.033366</td>\n",
       "      <td>1.000000</td>\n",
       "      <td>0.045089</td>\n",
       "      <td>-0.039794</td>\n",
       "    </tr>\n",
       "    <tr>\n",
       "      <th>tempo</th>\n",
       "      <td>0.075191</td>\n",
       "      <td>0.168956</td>\n",
       "      <td>0.102097</td>\n",
       "      <td>-0.241119</td>\n",
       "      <td>0.215504</td>\n",
       "      <td>0.018853</td>\n",
       "      <td>0.025457</td>\n",
       "      <td>0.045089</td>\n",
       "      <td>1.000000</td>\n",
       "      <td>0.130328</td>\n",
       "    </tr>\n",
       "    <tr>\n",
       "      <th>duration_ms</th>\n",
       "      <td>0.081971</td>\n",
       "      <td>-0.033763</td>\n",
       "      <td>0.064130</td>\n",
       "      <td>-0.010988</td>\n",
       "      <td>0.366976</td>\n",
       "      <td>0.184709</td>\n",
       "      <td>-0.090188</td>\n",
       "      <td>-0.039794</td>\n",
       "      <td>0.130328</td>\n",
       "      <td>1.000000</td>\n",
       "    </tr>\n",
       "  </tbody>\n",
       "</table>\n",
       "</div>"
      ],
      "text/plain": [
       "                    energy  danceability  loudness  acousticness  speechiness  \\\n",
       "energy            1.000000      0.152552  0.791640     -0.682479     0.074267   \n",
       "danceability      0.152552      1.000000  0.167147     -0.359135     0.226148   \n",
       "loudness          0.791640      0.167147  1.000000     -0.498695    -0.021693   \n",
       "acousticness     -0.682479     -0.359135 -0.498695      1.000000    -0.135392   \n",
       "speechiness       0.074267      0.226148 -0.021693     -0.135392     1.000000   \n",
       "instrumentalness -0.385515     -0.017706 -0.553735      0.352184     0.028948   \n",
       "liveness          0.069487     -0.006648 -0.069939     -0.128384    -0.142957   \n",
       "valence           0.393453      0.479953  0.406772     -0.243192     0.053867   \n",
       "tempo             0.075191      0.168956  0.102097     -0.241119     0.215504   \n",
       "duration_ms       0.081971     -0.033763  0.064130     -0.010988     0.366976   \n",
       "\n",
       "                  instrumentalness  liveness   valence     tempo  duration_ms  \n",
       "energy                   -0.385515  0.069487  0.393453  0.075191     0.081971  \n",
       "danceability             -0.017706 -0.006648  0.479953  0.168956    -0.033763  \n",
       "loudness                 -0.553735 -0.069939  0.406772  0.102097     0.064130  \n",
       "acousticness              0.352184 -0.128384 -0.243192 -0.241119    -0.010988  \n",
       "speechiness               0.028948 -0.142957  0.053867  0.215504     0.366976  \n",
       "instrumentalness          1.000000 -0.087034 -0.203283  0.018853     0.184709  \n",
       "liveness                 -0.087034  1.000000 -0.033366  0.025457    -0.090188  \n",
       "valence                  -0.203283 -0.033366  1.000000  0.045089    -0.039794  \n",
       "tempo                     0.018853  0.025457  0.045089  1.000000     0.130328  \n",
       "duration_ms               0.184709 -0.090188 -0.039794  0.130328     1.000000  "
      ]
     },
     "execution_count": 53,
     "metadata": {},
     "output_type": "execute_result"
    }
   ],
   "source": [
    "# Calculate the correlation matrix for numerical features\n",
    "correlation_matrix = numerical_df.corr()\n",
    "\n",
    "correlation_matrix"
   ]
  },
  {
   "cell_type": "code",
   "execution_count": 54,
   "id": "02ca97c9",
   "metadata": {},
   "outputs": [
    {
     "name": "stdout",
     "output_type": "stream",
     "text": [
      "Strongly positively correlated features:\n",
      "            energy  loudness\n",
      "energy        NaN   0.79164\n",
      "loudness  0.79164       NaN\n"
     ]
    }
   ],
   "source": [
    "# Strongly positively correlated features\n",
    "# Find pairs of features with strong positive correlation (correlation > 0.6)\n",
    "strong_positive_corr = correlation_matrix[(correlation_matrix > 0.6) & (correlation_matrix < 1.0)]\n",
    "\n",
    "# Drop NaN values to focus on strong correlations\n",
    "strong_positive_corr = strong_positive_corr.dropna(how='all').dropna(axis=1, how='all')\n",
    "\n",
    "print(\"Strongly positively correlated features:\\n\", strong_positive_corr)"
   ]
  },
  {
   "cell_type": "markdown",
   "id": "99cbcb8b",
   "metadata": {},
   "source": [
    "Energy and loudness are strongly positively correlated."
   ]
  },
  {
   "cell_type": "code",
   "execution_count": 55,
   "id": "6e59e7ad",
   "metadata": {},
   "outputs": [
    {
     "name": "stdout",
     "output_type": "stream",
     "text": [
      "Strongly negatively correlated features:\n",
      "                 energy  acousticness\n",
      "energy             NaN     -0.682479\n",
      "acousticness -0.682479           NaN\n"
     ]
    }
   ],
   "source": [
    "# Strongly negatively correlated features\n",
    "# Find pairs of features with strong negative correlation (correlation < -0.6)\n",
    "strong_negative_corr = correlation_matrix[correlation_matrix < -0.6]\n",
    "\n",
    "# Drop NaN values to focus on strong correlations\n",
    "strong_negative_corr = strong_negative_corr.dropna(how='all').dropna(axis=1, how='all')\n",
    "\n",
    "print(\"Strongly negatively correlated features:\\n\", strong_negative_corr)"
   ]
  },
  {
   "cell_type": "markdown",
   "id": "fecd24c9",
   "metadata": {},
   "source": [
    "Energy and lacousticness are strongly negatively correlated."
   ]
  },
  {
   "cell_type": "code",
   "execution_count": 56,
   "id": "16dd5ad0",
   "metadata": {},
   "outputs": [
    {
     "name": "stdout",
     "output_type": "stream",
     "text": [
      "Features that are not correlated:\n",
      "                     energy  danceability  loudness  acousticness  speechiness  \\\n",
      "energy                 NaN           NaN       NaN           NaN     0.074267   \n",
      "danceability           NaN           NaN       NaN           NaN          NaN   \n",
      "loudness               NaN           NaN       NaN           NaN    -0.021693   \n",
      "acousticness           NaN           NaN       NaN           NaN          NaN   \n",
      "speechiness       0.074267           NaN -0.021693           NaN          NaN   \n",
      "instrumentalness       NaN     -0.017706       NaN           NaN     0.028948   \n",
      "liveness          0.069487     -0.006648 -0.069939           NaN          NaN   \n",
      "valence                NaN           NaN       NaN           NaN     0.053867   \n",
      "tempo             0.075191           NaN       NaN           NaN          NaN   \n",
      "duration_ms       0.081971     -0.033763  0.064130     -0.010988          NaN   \n",
      "\n",
      "                  instrumentalness  liveness   valence     tempo  duration_ms  \n",
      "energy                         NaN  0.069487       NaN  0.075191     0.081971  \n",
      "danceability             -0.017706 -0.006648       NaN       NaN    -0.033763  \n",
      "loudness                       NaN -0.069939       NaN       NaN     0.064130  \n",
      "acousticness                   NaN       NaN       NaN       NaN    -0.010988  \n",
      "speechiness               0.028948       NaN  0.053867       NaN          NaN  \n",
      "instrumentalness               NaN -0.087034       NaN  0.018853          NaN  \n",
      "liveness                 -0.087034       NaN -0.033366  0.025457    -0.090188  \n",
      "valence                        NaN -0.033366       NaN  0.045089    -0.039794  \n",
      "tempo                     0.018853  0.025457  0.045089       NaN          NaN  \n",
      "duration_ms                    NaN -0.090188 -0.039794       NaN          NaN  \n"
     ]
    }
   ],
   "source": [
    "# Features that are not correlated\n",
    "\n",
    "# Find pairs of features with weak correlation (correlation between -0.1 and 0.1)\n",
    "not_correlated = correlation_matrix[(correlation_matrix > -0.1) & (correlation_matrix < 0.1)]\n",
    "\n",
    "# Drop NaN values to focus on weak correlations\n",
    "not_correlated = not_correlated.dropna(how='all').dropna(axis=1, how='all')\n",
    "\n",
    "print(\"Features that are not correlated:\\n\", not_correlated)\n"
   ]
  },
  {
   "cell_type": "markdown",
   "id": "94eaffb5",
   "metadata": {},
   "source": [
    "A lot of the features in the dataset don't really affect each other. For example, there's almost no connection between acousticness and duration, or between valence and liveness. Acousticness only has one feature that it doesn't correlate with, while liveness doesn't correlate with seven other features."
   ]
  },
  {
   "cell_type": "code",
   "execution_count": 57,
   "id": "03d266cb",
   "metadata": {},
   "outputs": [
    {
     "name": "stdout",
     "output_type": "stream",
     "text": [
      "                  danceability                loudness                 \\\n",
      "                          mean    max    min      mean    max     min   \n",
      "genre                                                                   \n",
      "Alternative/Indie     0.661750  0.862  0.459 -5.421000 -4.746  -6.401   \n",
      "Dance/Electronic      0.755000  0.880  0.647 -5.338000 -3.756  -7.567   \n",
      "Hip-Hop/Rap           0.765538  0.896  0.598 -6.917846 -3.370  -8.820   \n",
      "Pop                   0.677571  0.806  0.464 -6.460357 -3.280 -14.454   \n",
      "\n",
      "                  acousticness                  \n",
      "                          mean    max      min  \n",
      "genre                                           \n",
      "Alternative/Indie     0.583500  0.751  0.29100  \n",
      "Dance/Electronic      0.099440  0.223  0.01370  \n",
      "Hip-Hop/Rap           0.188741  0.731  0.00513  \n",
      "Pop                   0.323843  0.902  0.02100  \n"
     ]
    }
   ],
   "source": [
    "# Comparison of the danceability, loudness and acousticness scores between Pop, \n",
    "# Hip-Hop/Rap, Dance/Electronic, and Alternative/Indie genres\n",
    "\n",
    "# Define selected features and genres\n",
    "selected_features = ['danceability', 'loudness', 'acousticness']\n",
    "selected_genres = ['Pop', 'Hip-Hop/Rap', 'Dance/Electronic', 'Alternative/Indie']\n",
    "\n",
    "# Perform groupby and aggregate mean, max, and min\n",
    "genre_stats = df[df['genre'].isin(selected_genres)].groupby('genre')[selected_features].agg(['mean', 'max', 'min'])\n",
    "\n",
    "print(genre_stats)"
   ]
  },
  {
   "cell_type": "markdown",
   "id": "f152e046",
   "metadata": {},
   "source": [
    "Danceability. Hip-Hop/Rap and Dance/Electronic genres have the highest mean danceability value (0.755-0.766).\n",
    "These genres are generally very suitable for dancing. Alternative/Indie and Pop have similar danceability mean scores (0.662-0.678). Alternative/Indie has the widest range od danceability.\n",
    "\n",
    "Loudness. The quietest genre  is Hip-Hop / Rap with -6.92 mean value. Pop songs have the widest range of loudness, suggesting that some songs can be very loud while others are quite soft(max= -3.280, min= -14.454 ).  On average Dance/Electronic songs are the loudest(-5.34).\n",
    "\n",
    "Acousticness. The most acoustic genre is Alternative / Indie with 0.58 mean value. Dance/Electronic and Hip-Hop/Rap are less acoustic on average. Pop songs could be as very much and not acoustic at all(min=0.02, max=0.9)."
   ]
  },
  {
   "cell_type": "markdown",
   "id": "81016a03",
   "metadata": {},
   "source": [
    "Areas of improvement for further research.\n",
    "\n",
    "1. Increase the number of observations in the dataset\n",
    "2. Consider usage of visualization\n",
    "3. Check statistical signifigance of correlation coefficients\n",
    "4. Compare features of popular with less popular tracks to identify what makes the song popular?\n",
    "5. Include user engagement metrics in the dataset\n",
    "\n"
   ]
  }
 ],
 "metadata": {
  "kernelspec": {
   "display_name": "Python 3 (ipykernel)",
   "language": "python",
   "name": "python3"
  },
  "language_info": {
   "codemirror_mode": {
    "name": "ipython",
    "version": 3
   },
   "file_extension": ".py",
   "mimetype": "text/x-python",
   "name": "python",
   "nbconvert_exporter": "python",
   "pygments_lexer": "ipython3",
   "version": "3.9.6"
  }
 },
 "nbformat": 4,
 "nbformat_minor": 5
}
